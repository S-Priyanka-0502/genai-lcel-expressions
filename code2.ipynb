{
 "cells": [
  {
   "cell_type": "code",
   "execution_count": 1,
   "id": "1b7b4f98",
   "metadata": {
    "height": 115
   },
   "outputs": [],
   "source": [
    "from langchain.prompts import PromptTemplate\n",
    "from langchain.chains import LLMChain\n",
    "from langchain.chat_models import ChatOpenAI\n",
    "from langchain.output_parsers import ResponseSchema\n",
    "from langchain.schema.output_parser import StrOutputParser\n"
   ]
  },
  {
   "cell_type": "code",
   "execution_count": 2,
   "id": "1001084a",
   "metadata": {
    "height": 285
   },
   "outputs": [],
   "source": [
    "prompt = PromptTemplate(\n",
    "    template=\"\"\"\n",
    "You are a travel assistant. Based on the following inputs, recommend a destination:\n",
    "- Preferred activity: {activity}\n",
    "- Budget (in USD): {budget}\n",
    "\n",
    "Provide a response strictly in JSON format:\n",
    "{{\n",
    "    \"destination\": \"<destination>\",\n",
    "    \"activity\": \"<activity>\",\n",
    "    \"cost\": \"<cost>\"\n",
    "}}\n",
    "\"\"\",\n",
    "    input_variables=[\"activity\", \"budget\"],\n",
    ")\n"
   ]
  },
  {
   "cell_type": "code",
   "execution_count": 3,
   "id": "a5a7e63c",
   "metadata": {
    "height": 132
   },
   "outputs": [],
   "source": [
    "response_schemas = [\n",
    "    ResponseSchema(name=\"destination\", description=\"Recommended travel destination\"),\n",
    "    ResponseSchema(name=\"activity\", description=\"Suggested activity at the destination\"),\n",
    "    ResponseSchema(name=\"cost\", description=\"Estimated cost in USD for the trip\"),\n",
    "]\n",
    "output_parser = StrOutputParser()\n"
   ]
  },
  {
   "cell_type": "code",
   "execution_count": 4,
   "id": "5ec0d031",
   "metadata": {
    "height": 30
   },
   "outputs": [],
   "source": [
    "llm = ChatOpenAI(model=\"gpt-4-0613\", temperature=0)"
   ]
  },
  {
   "cell_type": "code",
   "execution_count": 5,
   "id": "6395ee4d",
   "metadata": {
    "height": 30
   },
   "outputs": [],
   "source": [
    "chain = LLMChain(llm=llm, prompt=prompt, output_parser=output_parser)"
   ]
  },
  {
   "cell_type": "code",
   "execution_count": 6,
   "id": "4be6481b",
   "metadata": {
    "height": 64
   },
   "outputs": [],
   "source": [
    "input_data = {\"activity\": \"hiking\", \"budget\": 1000}\n",
    "result = chain.run(input_data)\n"
   ]
  },
  {
   "cell_type": "code",
   "execution_count": 7,
   "id": "0259adea",
   "metadata": {
    "height": 47
   },
   "outputs": [],
   "source": [
    "parsed_result = output_parser.parse(result)\n"
   ]
  },
  {
   "cell_type": "code",
   "execution_count": 8,
   "id": "0a91df52",
   "metadata": {
    "height": 30
   },
   "outputs": [
    {
     "name": "stdout",
     "output_type": "stream",
     "text": [
      "Recommendation: {\n",
      "    \"destination\": \"Appalachian Trail, USA\",\n",
      "    \"activity\": \"hiking\",\n",
      "    \"cost\": \"1000\"\n",
      "}\n"
     ]
    }
   ],
   "source": [
    "print(\"Recommendation:\", parsed_result)"
   ]
  },
  {
   "cell_type": "code",
   "execution_count": null,
   "id": "ba7f5a45",
   "metadata": {
    "height": 30
   },
   "outputs": [],
   "source": []
  }
 ],
 "metadata": {
  "kernelspec": {
   "display_name": "Python 3 (ipykernel)",
   "language": "python",
   "name": "python3"
  },
  "language_info": {
   "codemirror_mode": {
    "name": "ipython",
    "version": 3
   },
   "file_extension": ".py",
   "mimetype": "text/x-python",
   "name": "python",
   "nbconvert_exporter": "python",
   "pygments_lexer": "ipython3",
   "version": "3.9.19"
  }
 },
 "nbformat": 4,
 "nbformat_minor": 5
}
